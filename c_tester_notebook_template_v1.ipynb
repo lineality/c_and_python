{
  "nbformat": 4,
  "nbformat_minor": 0,
  "metadata": {
    "colab": {
      "name": "c_tester_notebook_template_v1.ipynb",
      "provenance": [],
      "collapsed_sections": []
    },
    "kernelspec": {
      "name": "python3",
      "display_name": "Python 3"
    },
    "language_info": {
      "name": "python"
    }
  },
  "cells": [
    {
      "cell_type": "markdown",
      "source": [
        "# c_tester_notebook_template\n",
        "\n",
        "This notebook works in environments such as colab,\n",
        "and may work locally if you have gcc installed,\n",
        "to test C code and produce binary files."
      ],
      "metadata": {
        "id": "stJP7ZiTm7JA"
      }
    },
    {
      "cell_type": "markdown",
      "source": [
        "# Check that C Langauage compiler exists: "
      ],
      "metadata": {
        "id": "kHZxrrWWh_5Q"
      }
    },
    {
      "cell_type": "code",
      "execution_count": 1,
      "metadata": {
        "colab": {
          "base_uri": "https://localhost:8080/"
        },
        "id": "DmSaHb9xh1SG",
        "outputId": "5a1a64fb-866a-4860-df19-494eb1a576c7"
      },
      "outputs": [
        {
          "output_type": "stream",
          "name": "stdout",
          "text": [
            "gcc (Ubuntu 7.5.0-3ubuntu1~18.04) 7.5.0\n",
            "Copyright (C) 2017 Free Software Foundation, Inc.\n",
            "This is free software; see the source for copying conditions.  There is NO\n",
            "warranty; not even for MERCHANTABILITY or FITNESS FOR A PARTICULAR PURPOSE.\n",
            "\n"
          ]
        }
      ],
      "source": [
        "!gcc --version"
      ]
    },
    {
      "cell_type": "markdown",
      "source": [
        "# C Source Code"
      ],
      "metadata": {
        "id": "-0m-nTUvjSbq"
      }
    },
    {
      "cell_type": "code",
      "source": [
        "c_source_code_string = \"\"\"\n",
        "/*\n",
        "test print hello world\n",
        "*/\n",
        "\n",
        "#include<stdio.h>\n",
        "\n",
        "int main()\n",
        "{\n",
        "  printf(\"hello world\");\n",
        "\n",
        "  // End\n",
        "  return 0;\n",
        "}\n",
        "\"\"\""
      ],
      "metadata": {
        "id": "KGLN9uhqjUtQ"
      },
      "execution_count": 22,
      "outputs": []
    },
    {
      "cell_type": "markdown",
      "source": [
        "# Make your .c source file"
      ],
      "metadata": {
        "id": "QvATKX7Ah7M5"
      }
    },
    {
      "cell_type": "code",
      "source": [
        "# make it: Make your .c source file\n",
        "with open('source_file.c', \"w\") as file_object:\n",
        "   # write file content\n",
        "   file_object.write( c_source_code_string )"
      ],
      "metadata": {
        "id": "KW0KYNPsh-zI"
      },
      "execution_count": 16,
      "outputs": []
    },
    {
      "cell_type": "code",
      "source": [
        "!ls"
      ],
      "metadata": {
        "colab": {
          "base_uri": "https://localhost:8080/"
        },
        "id": "4V2SDd_Jl5cK",
        "outputId": "aaf0684b-4e2f-4a7c-e353-9eb62ddf1c3e"
      },
      "execution_count": 17,
      "outputs": [
        {
          "output_type": "stream",
          "name": "stdout",
          "text": [
            "sample_data  sample.txt  source.c  source_file.c\n"
          ]
        }
      ]
    },
    {
      "cell_type": "markdown",
      "source": [
        "# Compile"
      ],
      "metadata": {
        "id": "5G_MkQNFiOt5"
      }
    },
    {
      "cell_type": "code",
      "source": [
        "! gcc -o executable.exe source_file.c"
      ],
      "metadata": {
        "id": "cOmzWe2ah7VK"
      },
      "execution_count": 18,
      "outputs": []
    },
    {
      "cell_type": "markdown",
      "source": [
        "# Run"
      ],
      "metadata": {
        "id": "IeBBa0XciQ-4"
      }
    },
    {
      "cell_type": "code",
      "source": [
        "!./executable.exe"
      ],
      "metadata": {
        "colab": {
          "base_uri": "https://localhost:8080/"
        },
        "id": "DhBXqqPGiSZ4",
        "outputId": "74df9e66-f3b1-444a-98a7-bf0812cd1770"
      },
      "execution_count": 19,
      "outputs": [
        {
          "output_type": "stream",
          "name": "stdout",
          "text": [
            "hello world"
          ]
        }
      ]
    }
  ]
}